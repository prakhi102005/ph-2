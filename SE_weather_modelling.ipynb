{
  "nbformat": 4,
  "nbformat_minor": 0,
  "metadata": {
    "colab": {
      "provenance": [],
      "authorship_tag": "ABX9TyMfjehoz/TPUmCzNzk/vDzV",
      "include_colab_link": true
    },
    "kernelspec": {
      "name": "python3",
      "display_name": "Python 3"
    },
    "language_info": {
      "name": "python"
    }
  },
  "cells": [
    {
      "cell_type": "markdown",
      "metadata": {
        "id": "view-in-github",
        "colab_type": "text"
      },
      "source": [
        "<a href=\"https://colab.research.google.com/github/prakhi102005/ph-2/blob/main/SE_weather_modelling.ipynb\" target=\"_parent\"><img src=\"https://colab.research.google.com/assets/colab-badge.svg\" alt=\"Open In Colab\"/></a>"
      ]
    },
    {
      "cell_type": "markdown",
      "source": [
        "Hardcoding variable keyboard input"
      ],
      "metadata": {
        "id": "64lzrG8fLWN7"
      }
    },
    {
      "cell_type": "code",
      "execution_count": 1,
      "metadata": {
        "colab": {
          "base_uri": "https://localhost:8080/"
        },
        "id": "WAwQ1aQ1H2-h",
        "outputId": "1cb31e9e-b562-4706-a816-06c8e457fe82"
      },
      "outputs": [
        {
          "output_type": "stream",
          "name": "stdout",
          "text": [
            "36.0\n"
          ]
        }
      ],
      "source": [
        "#Define the quadratic equation coeffiecnt for the weather model\n",
        "a = 0.5\n",
        "b = -2\n",
        "c = 30\n",
        "#input:Time of the day (hardcoded variable)\n",
        "time_of_day = 6\n",
        "#calculate weather value using the quadractic formula\n",
        "weather_value = a*time_of_day**2 + b*time_of_day + c\n",
        "print(weather_value) #output the weather value"
      ]
    },
    {
      "cell_type": "markdown",
      "source": [
        "Read from a file"
      ],
      "metadata": {
        "id": "3mrM-3BvLcu6"
      }
    },
    {
      "cell_type": "code",
      "source": [
        "#Define the quadratic equation coeffiecnt for the weather model\n",
        "a = 0.5\n",
        "b = -2\n",
        "c = 30\n",
        "\n",
        "# Input: Time of the day (can be changed)\n",
        "time_of_day = 6\n",
        "\n",
        "# Calculate weather value using the quadratic formula\n",
        "weather_value = a * time_of_day**2 + b * time_of_day + c\n",
        "\n",
        "# Print time of day and weather value\n",
        "print(f\"Time of day: {time_of_day} hours\")\n",
        "print(f\"Weather value: {weather_value}\")"
      ],
      "metadata": {
        "colab": {
          "base_uri": "https://localhost:8080/"
        },
        "id": "oSgfnjYuH7cS",
        "outputId": "7018acb9-14b5-439e-dd53-7f03e0ac6f7c"
      },
      "execution_count": 4,
      "outputs": [
        {
          "output_type": "stream",
          "name": "stdout",
          "text": [
            "Time of day: 6 hours\n",
            "Weather value: 36.0\n"
          ]
        }
      ]
    },
    {
      "cell_type": "markdown",
      "source": [
        "Single set of input"
      ],
      "metadata": {
        "id": "R9i_-MdgLkcj"
      }
    },
    {
      "cell_type": "code",
      "source": [
        "# Define the quadratic equation coefficients for the weather model\n",
        "a = 0.5\n",
        "b = -2\n",
        "c = 30\n",
        "\n",
        "# Input: Time of the day (can be changed)\n",
        "time_of_day = 5 #@param {type:\"number\"}\n",
        "\n",
        "# Calculate weather value using the quadratic formula\n",
        "weather_value = a * time_of_day**2 + b * time_of_day + c\n",
        "\n",
        "# Print time of day and weather value\n",
        "print(f\"Time of day: {time_of_day} hours\")\n",
        "print(f\"Weather value: {weather_value}\")"
      ],
      "metadata": {
        "colab": {
          "base_uri": "https://localhost:8080/"
        },
        "id": "uDfJS371J-Vj",
        "outputId": "df6c4296-c984-4178-fc55-e6bea685fe78"
      },
      "execution_count": 6,
      "outputs": [
        {
          "output_type": "stream",
          "name": "stdout",
          "text": [
            "Time of day: 5 hours\n",
            "Weather value: 32.5\n"
          ]
        }
      ]
    },
    {
      "cell_type": "markdown",
      "source": [
        "Multiple inputs"
      ],
      "metadata": {
        "id": "T6-Xb7KfLqY3"
      }
    },
    {
      "cell_type": "code",
      "source": [
        "\n",
        "import math\n",
        "\n",
        "def is_not_prime(n):\n",
        "\n",
        "    if n <= 1:\n",
        "        return True  # 1 and numbers less than 1 are not prime\n",
        "    for i in range(2, int(math.sqrt(n)) + 1):\n",
        "        if n % i == 0:\n",
        "            return True\n",
        "    return False\n",
        "\n",
        "# Example usage with multiple inputs:\n",
        "numbers_to_check = [2, 3, 4, 5, 6, 7, 10, 11, 13, 15, 20]\n",
        "for number in numbers_to_check:\n",
        "  print(f\"{number} is not prime: {is_not_prime(number)}\")"
      ],
      "metadata": {
        "colab": {
          "base_uri": "https://localhost:8080/"
        },
        "id": "-s6PvrwtKnOh",
        "outputId": "a42e86c1-e4b1-424d-adbd-3b5f157f39fe"
      },
      "execution_count": 11,
      "outputs": [
        {
          "output_type": "stream",
          "name": "stdout",
          "text": [
            "Set of inputs 1\n",
            "  Time of day: 6 hours\n",
            "  Weather value: 36.0\n",
            "--------------------\n",
            "Set of inputs 2\n",
            "  Time of day: 8 hours\n",
            "  Weather value: 29.8\n",
            "--------------------\n",
            "Set of inputs 3\n",
            "  Time of day: 10 hours\n",
            "  Weather value: 75.0\n",
            "--------------------\n"
          ]
        }
      ]
    },
    {
      "cell_type": "code",
      "source": [],
      "metadata": {
        "id": "JCEoGVDvLOEZ"
      },
      "execution_count": null,
      "outputs": []
    }
  ]
}