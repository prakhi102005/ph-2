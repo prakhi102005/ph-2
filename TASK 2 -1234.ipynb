{
  "nbformat": 4,
  "nbformat_minor": 0,
  "metadata": {
    "colab": {
      "provenance": [],
      "toc_visible": true,
      "authorship_tag": "ABX9TyPm6R1slP6IbF5scoW5jWDI",
      "include_colab_link": true
    },
    "kernelspec": {
      "name": "python3",
      "display_name": "Python 3"
    },
    "language_info": {
      "name": "python"
    }
  },
  "cells": [
    {
      "cell_type": "markdown",
      "metadata": {
        "id": "view-in-github",
        "colab_type": "text"
      },
      "source": [
        "<a href=\"https://colab.research.google.com/github/prakhi102005/ph-2/blob/main/TASK%202%20-1234.ipynb\" target=\"_parent\"><img src=\"https://colab.research.google.com/assets/colab-badge.svg\" alt=\"Open In Colab\"/></a>"
      ]
    },
    {
      "cell_type": "code",
      "execution_count": 8,
      "metadata": {
        "colab": {
          "base_uri": "https://localhost:8080/"
        },
        "id": "jMPfQBdcc8I4",
        "outputId": "a4d63598-da5f-4fad-a827-aac64a6e0471"
      },
      "outputs": [
        {
          "output_type": "stream",
          "name": "stdout",
          "text": [
            "Sum of 10 and  30 is 40\n"
          ]
        }
      ],
      "source": [
        "num1 = 10;\n",
        "num2 = 30;\n",
        "result = num1+ num2\n",
        "print(f\"Sum of {num1} and  {num2} is {result}\")"
      ]
    },
    {
      "cell_type": "code",
      "source": [
        "try:\n",
        "    num1 = int(input(\"Enter first number: \"))\n",
        "    num2 = int(input(\"Enter second number: \"))\n",
        "    result = num1 + num2\n",
        "    print(f\"Sum of {num1} and {num2} is {result}\")\n",
        "except ValueError:\n",
        "    print(\"Invalid input. Please enter valid numbers.\")\n"
      ],
      "metadata": {
        "colab": {
          "base_uri": "https://localhost:8080/"
        },
        "id": "wcZE0JCheC2X",
        "outputId": "bef163e6-b94e-439a-87b1-6fe7946d29a7"
      },
      "execution_count": 19,
      "outputs": [
        {
          "output_type": "stream",
          "name": "stdout",
          "text": [
            "Enter first number: 10\n",
            "Enter second number: 36\n",
            "Sum of 10 and 36 is 46\n"
          ]
        }
      ]
    },
    {
      "cell_type": "code",
      "source": [
        "with open('single_input.txt','w') as file:\n",
        "  file.write(\"25\")\n",
        "  print(\"single_input.txt created!\")"
      ],
      "metadata": {
        "colab": {
          "base_uri": "https://localhost:8080/"
        },
        "id": "dcwIYicrfcyb",
        "outputId": "d6ebbfe3-e02d-491f-ec1d-034787b902c5"
      },
      "execution_count": 20,
      "outputs": [
        {
          "output_type": "stream",
          "name": "stdout",
          "text": [
            "single_input.txt created!\n"
          ]
        }
      ]
    },
    {
      "cell_type": "code",
      "source": [
        "try:\n",
        "    with open('single_input.txt', 'r') as file:\n",
        "        num = int(file.read().strip())\n",
        "        result = num + 10\n",
        "        print(f\"Number from file: {num}, After addition: {result}\")\n",
        "except FileNotFoundError:\n",
        "    print(\"File not found. Please create a file named 'single_input.txt'.\")\n",
        "except ValueError:\n",
        "    print(\"File content must be a valid integer.\")\n"
      ],
      "metadata": {
        "colab": {
          "base_uri": "https://localhost:8080/"
        },
        "id": "T1S_u4Rjf5vB",
        "outputId": "df1ae587-38d5-47d4-acfa-e9f814a70fb9"
      },
      "execution_count": 22,
      "outputs": [
        {
          "output_type": "stream",
          "name": "stdout",
          "text": [
            "Number from file: 25, After addition: 35\n"
          ]
        }
      ]
    },
    {
      "cell_type": "code",
      "source": [
        "with open('multiple_inputs.txt', 'w') as file:\n",
        "    file.write(\"10\\n20\\n30\")\n",
        "    print(\"multiple_inputs.txt created\")\n",
        "\n"
      ],
      "metadata": {
        "colab": {
          "base_uri": "https://localhost:8080/"
        },
        "id": "XTIhuk7th1Qr",
        "outputId": "be5325cb-9a00-4fc5-a3ee-4a0197462da6"
      },
      "execution_count": 23,
      "outputs": [
        {
          "output_type": "stream",
          "name": "stdout",
          "text": [
            "multiple_inputs.txt created\n"
          ]
        }
      ]
    },
    {
      "cell_type": "code",
      "source": [
        "try:\n",
        "    with open('multiple_inputs.txt', 'r') as file:\n",
        "        numbers = file.readlines()\n",
        "        numbers = [int(num.strip()) for num in numbers]\n",
        "        result = sum(numbers)\n",
        "        print(f\"Numbers from File: {numbers}, Sum: {result}\")\n",
        "except FileNotFoundError:\n",
        "    print(\"File not found. Please create a file named 'multiple_inputs.txt'.\")\n",
        "except ValueError:\n",
        "    print(\"Invalid input in the file. Please enter only numbers.\")\n",
        ""
      ],
      "metadata": {
        "colab": {
          "base_uri": "https://localhost:8080/"
        },
        "id": "6VvFk88siUqD",
        "outputId": "d3d96c49-93e3-47f5-d40d-4fcbd8ddaee7"
      },
      "execution_count": 25,
      "outputs": [
        {
          "output_type": "stream",
          "name": "stdout",
          "text": [
            "Numbers from File: [10, 20, 30], Sum: 60\n"
          ]
        }
      ]
    }
  ]
}