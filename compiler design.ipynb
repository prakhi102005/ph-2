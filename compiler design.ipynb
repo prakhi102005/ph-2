{
  "nbformat": 4,
  "nbformat_minor": 0,
  "metadata": {
    "colab": {
      "provenance": [],
      "authorship_tag": "ABX9TyM3v9zwuFD7e4TPZw6Yd6X6",
      "include_colab_link": true
    },
    "kernelspec": {
      "name": "python3",
      "display_name": "Python 3"
    },
    "language_info": {
      "name": "python"
    }
  },
  "cells": [
    {
      "cell_type": "markdown",
      "metadata": {
        "id": "view-in-github",
        "colab_type": "text"
      },
      "source": [
        "<a href=\"https://colab.research.google.com/github/prakhi102005/ph-2/blob/main/compiler%20design.ipynb\" target=\"_parent\"><img src=\"https://colab.research.google.com/assets/colab-badge.svg\" alt=\"Open In Colab\"/></a>"
      ]
    },
    {
      "cell_type": "code",
      "execution_count": null,
      "metadata": {
        "colab": {
          "base_uri": "https://localhost:8080/"
        },
        "id": "bl6Fc8TVHzoy",
        "outputId": "dc762e43-879d-412b-cbd5-71b84448191e"
      },
      "outputs": [
        {
          "output_type": "stream",
          "name": "stdout",
          "text": [
            "Writing lexer.l\n"
          ]
        }
      ],
      "source": [
        "%%writefile lexer.l\n",
        "%{\n",
        "  #include<stdio.h>\n",
        "%}\n",
        "%%\n",
        "\n",
        "\"while\"|\"if\"|\"else\" {printf(\"\\n keyword : %s\",yytext);}\n",
        "\"int\"|\"float\" {printf(\"\\n identifier : %s\",yytext);}\n",
        "[a-zA-Z_][a-zA-Z0-9_]* {printf(\"\\n identifier : %s\",yytext);}\n",
        "\"<=\"|\"==\"|\"=\"|\"++\"|\"-\"|\"*\"|\"+\" {printf (\"\\n operator : %s\",yytext):}\n",
        "[0-9]*\".\"[0-9]+ {printf(\"\\n float : %s\" , yytext);}\n",
        "[0-9]+ {printf(\"\\n integer : %s\",yytext);}\n",
        "\n",
        "%%\n",
        "int yywrap(void)\n",
        "{\n",
        "  return 0;\n",
        "}\n",
        "int main()\n",
        "{\n",
        "         yylex();\n",
        "    return 0;\n",
        "\n",
        "\n",
        "}"
      ]
    },
    {
      "cell_type": "code",
      "source": [
        "!flex lexer.l"
      ],
      "metadata": {
        "colab": {
          "base_uri": "https://localhost:8080/"
        },
        "id": "aJF3nWZjH2vY",
        "outputId": "7e849aa6-00e0-4180-c3b2-5e87373505cb"
      },
      "execution_count": null,
      "outputs": [
        {
          "output_type": "stream",
          "name": "stdout",
          "text": [
            "/bin/bash: line 1: flex: command not found\n"
          ]
        }
      ]
    },
    {
      "cell_type": "code",
      "source": [
        "gcc -o  lex.yy.c -lfl"
      ],
      "metadata": {
        "colab": {
          "base_uri": "https://localhost:8080/",
          "height": 106
        },
        "id": "zi2pBgO0H8uI",
        "outputId": "429ff562-d6c0-40a7-b781-951389ec6a10"
      },
      "execution_count": null,
      "outputs": [
        {
          "output_type": "error",
          "ename": "SyntaxError",
          "evalue": "invalid syntax (<ipython-input-11-f2ac50e18629>, line 1)",
          "traceback": [
            "\u001b[0;36m  File \u001b[0;32m\"<ipython-input-11-f2ac50e18629>\"\u001b[0;36m, line \u001b[0;32m1\u001b[0m\n\u001b[0;31m    gcc -o  lex.yy.c -lfl\u001b[0m\n\u001b[0m            ^\u001b[0m\n\u001b[0;31mSyntaxError\u001b[0m\u001b[0;31m:\u001b[0m invalid syntax\n"
          ]
        }
      ]
    }
  ]
}